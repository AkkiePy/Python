{
  "nbformat": 4,
  "nbformat_minor": 0,
  "metadata": {
    "colab": {
      "name": "cone.ipynb",
      "provenance": []
    },
    "kernelspec": {
      "name": "python3",
      "display_name": "Python 3"
    }
  },
  "cells": [
    {
      "cell_type": "code",
      "metadata": {
        "id": "2HzDJwsFoaKv",
        "colab_type": "code",
        "colab": {
          "base_uri": "https://localhost:8080/",
          "height": 52
        },
        "outputId": "89ee33c9-201e-49b5-b8dc-c23ef1442f9a"
      },
      "source": [
        "\n",
        "\n",
        "import math \n",
        "\n",
        "pi = math.pi \n",
        "\n",
        "  \n",
        "# Function to calculate Volume of Cone \n",
        "\n",
        "def volume(r, h): \n",
        "\n",
        "    return (1 / 3) * pi * r * r * h \n",
        "\n",
        "  \n",
        "# Function To Calculate Surface Area of Cone \n",
        "\n",
        "def surfacearea(r, s): \n",
        "\n",
        "    return pi * r * s + pi * r * r \n",
        "\n",
        "  \n",
        "# Driver Code \n",
        "\n",
        "radius = float(5) \n",
        "\n",
        "height = float(12) \n",
        "\n",
        "slat_height = float(13) \n",
        "\n",
        "print( \"Volume Of Cone : \", volume(radius, height) ) \n",
        "\n",
        "print( \"Surface Area Of Cone : \",surfacearea(radius, slat_height) ) \n"
      ],
      "execution_count": 2,
      "outputs": [
        {
          "output_type": "stream",
          "text": [
            "Volume Of Cone :  314.15926535897927\n",
            "Surface Area Of Cone :  282.7433388230814\n"
          ],
          "name": "stdout"
        }
      ]
    },
    {
      "cell_type": "code",
      "metadata": {
        "id": "6VYcD3hgoz6P",
        "colab_type": "code",
        "colab": {}
      },
      "source": [
        ""
      ],
      "execution_count": 0,
      "outputs": []
    }
  ]
}