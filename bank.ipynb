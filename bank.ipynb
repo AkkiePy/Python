{
  "nbformat": 4,
  "nbformat_minor": 0,
  "metadata": {
    "colab": {
      "name": "bank.ipynb",
      "provenance": []
    },
    "kernelspec": {
      "name": "python3",
      "display_name": "Python 3"
    }
  },
  "cells": [
    {
      "cell_type": "code",
      "metadata": {
        "id": "RhLOpt3enz5W",
        "colab_type": "code",
        "colab": {
          "base_uri": "https://localhost:8080/",
          "height": 176
        },
        "outputId": "2249a2d8-b6c8-4a82-9839-1c5898adb458"
      },
      "source": [
        "class Bank_Account: \n",
        "\n",
        "    def __init__(self): \n",
        "\n",
        "        self.balance=0\n",
        "\n",
        "        print(\"Hello!!! Welcome to the Deposit & Withdrawal Machine\") \n",
        "\n",
        "  \n",
        "\n",
        "    def deposit(self): \n",
        "\n",
        "        amount=float(input(\"Enter amount to be Deposited: \")) \n",
        "\n",
        "        self.balance += amount \n",
        "\n",
        "        print(\"\\n Amount Deposited:\",amount) \n",
        "\n",
        "  \n",
        "\n",
        "    def withdraw(self): \n",
        "\n",
        "        amount = float(input(\"Enter amount to be Withdrawn: \")) \n",
        "\n",
        "        if self.balance>=amount: \n",
        "\n",
        "            self.balance-=amount \n",
        "\n",
        "            print(\"\\n You Withdrew:\", amount) \n",
        "\n",
        "        else: \n",
        "\n",
        "            print(\"\\n Insufficient balance  \") \n",
        "\n",
        "  \n",
        "\n",
        "    def display(self): \n",
        "\n",
        "        print(\"\\n Net Available Balance=\",self.balance) \n",
        "\n",
        "  \n",
        "# Driver code \n",
        "\n",
        "   \n",
        "# creating an object of class \n",
        "\n",
        "s = Bank_Account() \n",
        "\n",
        "   \n",
        "# Calling functions with that class object \n",
        "s.deposit() \n",
        "s.withdraw() \n",
        "s.display()"
      ],
      "execution_count": 1,
      "outputs": [
        {
          "output_type": "stream",
          "text": [
            "Hello!!! Welcome to the Deposit & Withdrawal Machine\n",
            "Enter amount to be Deposited: 1000\n",
            "\n",
            " Amount Deposited: 1000.0\n",
            "Enter amount to be Withdrawn: 1100\n",
            "\n",
            " Insufficient balance  \n",
            "\n",
            " Net Available Balance= 1000.0\n"
          ],
          "name": "stdout"
        }
      ]
    },
    {
      "cell_type": "code",
      "metadata": {
        "id": "2HzDJwsFoaKv",
        "colab_type": "code",
        "colab": {}
      },
      "source": [
        ""
      ],
      "execution_count": 0,
      "outputs": []
    }
  ]
}